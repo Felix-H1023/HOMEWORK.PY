{
 "cells": [
  {
   "cell_type": "code",
   "execution_count": null,
   "metadata": {},
   "outputs": [],
   "source": [
    "import time\n",
    "a=1\n",
    "while a==1: \n",
    "    PrimaryWord=input('Type in a something you can do. Example: playing video games')\n",
    "    SecondaryWord=input('Type in something you feel. Example: happy')\n",
    "    HL=input('Hate, Like, or Love')\n",
    "    time.sleep(5)\n",
    "    print('inserting words...')\n",
    "    time.sleep(2)\n",
    "    print('adding symbols...')\n",
    "    time.sleep(3.64782648723647832647826847)\n",
    "    print('I', HL, ' ', PrimaryWord, '. I', HL, ' ', PrimaryWord, '. Ooooh ooh ohhhhh!(pronounced oo oo OH) I feel', SecondaryWord, '. I feel', SecondaryWord, '. bum bum BUM!')"
   ]
  }
 ],
 "metadata": {
  "kernelspec": {
   "display_name": "Python 3",
   "language": "python",
   "name": "python3"
  },
  "language_info": {
   "codemirror_mode": {
    "name": "ipython",
    "version": 3
   },
   "file_extension": ".py",
   "mimetype": "text/x-python",
   "name": "python",
   "nbconvert_exporter": "python",
   "pygments_lexer": "ipython3",
   "version": "3.7.6"
  }
 },
 "nbformat": 4,
 "nbformat_minor": 4
}
