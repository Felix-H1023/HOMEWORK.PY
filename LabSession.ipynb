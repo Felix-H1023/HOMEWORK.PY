{
 "cells": [
  {
   "cell_type": "code",
   "execution_count": 2,
   "metadata": {},
   "outputs": [
    {
     "name": "stdout",
     "output_type": "stream",
     "text": [
      "[65, 40, 45, 41, 42, 46, 48, 58, 58, 54, 56, 69, 64, 64, 58, 90, 52, 70, 45, 50, 45, 47, 51, 53, 63, 63, 59, 61, 74, 69, 69, 63, 95, 57]\n",
      "58.35294117647059\n",
      "The total number of temperature readings that are under the average is 19\n",
      "The total number of temperature readings that are above the average is 15\n"
     ]
    }
   ],
   "source": [
    "t=open(\"sensordata.txt\",\"r\")\n",
    "sensor=t.read().split()\n",
    "valid=[]\n",
    "average=0\n",
    "for s in sensor:\n",
    "    if int(s)>200 or int(s)<-200: \n",
    "        continue\n",
    "    else:\n",
    "        valid.append(int(s))\n",
    "print(valid)\n",
    "for v in range(len(valid)):\n",
    "    chosen=int(valid[v])\n",
    "    average=average+chosen\n",
    "average=average/len(valid)\n",
    "print(average)\n",
    "gtemps=[]\n",
    "stemps=[]\n",
    "for v in range(len(valid)):\n",
    "    chosen=int(valid[v])\n",
    "    if chosen>average:\n",
    "        gtemps.append(chosen)\n",
    "    else:\n",
    "        stemps.append(chosen)\n",
    "print('The total number of temperature readings that are above the average is', len(gtemps))\n",
    "print('The total number of temperature readings that are under the average is', len(stemps))"
   ]
  },
  {
   "cell_type": "code",
   "execution_count": null,
   "metadata": {},
   "outputs": [],
   "source": []
  }
 ],
 "metadata": {
  "kernelspec": {
   "display_name": "Python 3",
   "language": "python",
   "name": "python3"
  },
  "language_info": {
   "codemirror_mode": {
    "name": "ipython",
    "version": 3
   },
   "file_extension": ".py",
   "mimetype": "text/x-python",
   "name": "python",
   "nbconvert_exporter": "python",
   "pygments_lexer": "ipython3",
   "version": "3.7.6"
  }
 },
 "nbformat": 4,
 "nbformat_minor": 4
}
