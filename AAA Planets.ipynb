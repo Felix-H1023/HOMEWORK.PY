{
 "cells": [
  {
   "cell_type": "code",
   "execution_count": 1,
   "metadata": {},
   "outputs": [
    {
     "name": "stdout",
     "output_type": "stream",
     "text": [
      "Mercury 7 14\n",
      "Venus 5 10\n",
      "Earth 5 10\n",
      "Mars 4 8\n",
      "Jupiter 7 14\n",
      "Saturn 6 12\n",
      "Uranus 6 12\n",
      "Neptune 7 14\n"
     ]
    }
   ],
   "source": [
    "planetsTextWrap=open(\"planets.txt\", \"r+\")\n",
    "planets=planetsTextWrap.read()\n",
    "planets=planets.split()\n",
    "for i in range(len(planets)):\n",
    "    selectedP=planets[i]\n",
    "    SP_letters=len(selectedP)\n",
    "    print(selectedP,SP_letters,2*SP_letters)"
   ]
  }
 ],
 "metadata": {
  "kernelspec": {
   "display_name": "Python 3",
   "language": "python",
   "name": "python3"
  },
  "language_info": {
   "codemirror_mode": {
    "name": "ipython",
    "version": 3
   },
   "file_extension": ".py",
   "mimetype": "text/x-python",
   "name": "python",
   "nbconvert_exporter": "python",
   "pygments_lexer": "ipython3",
   "version": "3.7.6"
  }
 },
 "nbformat": 4,
 "nbformat_minor": 4
}
