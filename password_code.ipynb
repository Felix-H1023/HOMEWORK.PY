{
 "cells": [
  {
   "cell_type": "code",
   "execution_count": null,
   "metadata": {},
   "outputs": [],
   "source": [
    "import random\n",
    "userinput='vvbvgvgvgvgvgvgvgvggvvgvgvvgvggvgvgccfxdcfvgbhnjnmkmjmjnnjnhnbhbbhbhbnhbhbjbjbn'\n",
    "password=random.randint(1,11)\n",
    "passcodes='abc','cba','hi','potatoes','abc123','ok','konichiwa','poop','abc123','hihihi'"
   ]
  },
  {
   "cell_type": "code",
   "execution_count": null,
   "metadata": {},
   "outputs": [],
   "source": [
    "print(passcodes [password])\n",
    "userinput=input(print('What is the passcode?'))\n",
    "while not userinput==passcodes[password]: \n",
    "    userinput=input(print('uh oh! you got it wrong. try again'))\n",
    "print('GOOD JOB! you go it right! :)')"
   ]
  }
 ],
 "metadata": {
  "kernelspec": {
   "display_name": "Python 3",
   "language": "python",
   "name": "python3"
  },
  "language_info": {
   "codemirror_mode": {
    "name": "ipython",
    "version": 3
   },
   "file_extension": ".py",
   "mimetype": "text/x-python",
   "name": "python",
   "nbconvert_exporter": "python",
   "pygments_lexer": "ipython3",
   "version": "3.7.6"
  }
 },
 "nbformat": 4,
 "nbformat_minor": 4
}
