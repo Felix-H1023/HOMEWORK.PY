{
 "cells": [
  {
   "cell_type": "code",
   "execution_count": null,
   "metadata": {},
   "outputs": [],
   "source": [
    "a='yes'\n",
    "while a=='yes': \n",
    "    length=int(input('What is the length of your wall? IN FEET'))\n",
    "    width=int(input('What is the width of you wall? IN FEET'))\n",
    "    windows=int(input('How many windows are on the wall?'))\n",
    "    doors=int(input('How many doors are on the wall?'))\n",
    "    gallons=length*width-(windows*15)-(doors*20)\n",
    "    print('You need', gallons, 'gallons of paint.')\n",
    "    a=input('Would you like to calculate another wall?')"
   ]
  }
 ],
 "metadata": {
  "kernelspec": {
   "display_name": "Python 3",
   "language": "python",
   "name": "python3"
  },
  "language_info": {
   "codemirror_mode": {
    "name": "ipython",
    "version": 3
   },
   "file_extension": ".py",
   "mimetype": "text/x-python",
   "name": "python",
   "nbconvert_exporter": "python",
   "pygments_lexer": "ipython3",
   "version": "3.7.6"
  }
 },
 "nbformat": 4,
 "nbformat_minor": 4
}
