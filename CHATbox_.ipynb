{
 "cells": [
  {
   "cell_type": "code",
   "execution_count": null,
   "metadata": {},
   "outputs": [],
   "source": [
    "def Greetings():\n",
    "    print ('Hello!')\n",
    "def Name():\n",
    "    Name=input ('My name is ChatBox, whats yours? ') \n",
    "    print ('Its good to meet you,', Name, '!') \n",
    "def FavThing():\n",
    "    FavThingToDo=input ('Whats your favorite thing to do? ') \n",
    "    print ('Cool! I like to do LOTS of stuff :)')\n",
    "def Color():\n",
    "    FavColor=input ('what color do you like best? ') \n",
    "    print ('i like ALL the colors!')\n",
    "def End():\n",
    "    print ('it was fun talking to you, see you soon!')"
   ]
  },
  {
   "cell_type": "code",
   "execution_count": null,
   "metadata": {},
   "outputs": [],
   "source": [
    "def ChatBox_():\n",
    "    Greetings()\n",
    "    Name()\n",
    "    FavThing()\n",
    "    Color()\n",
    "    End()"
   ]
  },
  {
   "cell_type": "code",
   "execution_count": null,
   "metadata": {},
   "outputs": [],
   "source": [
    "ChatBox_()"
   ]
  }
 ],
 "metadata": {
  "kernelspec": {
   "display_name": "Python 3",
   "language": "python",
   "name": "python3"
  },
  "language_info": {
   "codemirror_mode": {
    "name": "ipython",
    "version": 3
   },
   "file_extension": ".py",
   "mimetype": "text/x-python",
   "name": "python",
   "nbconvert_exporter": "python",
   "pygments_lexer": "ipython3",
   "version": "3.7.6"
  }
 },
 "nbformat": 4,
 "nbformat_minor": 4
}
